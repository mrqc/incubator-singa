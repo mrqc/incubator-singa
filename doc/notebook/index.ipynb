{
 "cells": [
  {
   "cell_type": "markdown",
   "metadata": {},
   "source": [
    "![Apache Singa](http://singa.apache.org/en/_static/singa.png)"
   ]
  },
  {
   "cell_type": "markdown",
   "metadata": {},
   "source": [
    "Welcome to this tutorial for Apache SINGA using Jupyter Notebook.\n",
    "\n",
    "Please install PySINGA before running these tutorials.\n",
    "\n",
    "1. [Regression](http://nbviewer.jupyter.org/github/apache/incubator-singa/blob/master/doc/notebook/regression.ipynb )\n",
    "\n",
    "2. [MLP Tutorial](http://nbviewer.jupyter.org/github/apache/incubator-singa/blob/master/doc/notebook/mlp.ipynb)\n",
    "\n",
    "3. [RBM Tutorial](\n",
    "http://nbviewer.jupyter.org/github/apache/incubator-singa/blob/master/doc/notebook/rbm.ipynb)\n",
    "\n",
    "\n",
    "To learn more about Jupyter, please check [IPython in Depth](https://www.youtube.com/watch?v=xe_ATRmw0KM).\n",
    "\n",
    "If you want to use PySINGA and jupyter notebooks in virtual environment, please use conda virtual environment and install the following extension. Then you can select the kernel of the virtual environment in the browser. "
   ]
  },
  {
   "cell_type": "code",
   "execution_count": null,
   "metadata": {
    "collapsed": false
   },
   "outputs": [],
   "source": [
    "conda install nb_conda_kernel"
   ]
  }
 ],
 "metadata": {
  "anaconda-cloud": {},
  "kernelspec": {
   "display_name": "Python [default]",
   "language": "python",
   "name": "python2"
  },
  "language_info": {
   "codemirror_mode": {
    "name": "ipython",
    "version": 2
   },
   "file_extension": ".py",
   "mimetype": "text/x-python",
   "name": "python",
   "nbconvert_exporter": "python",
   "pygments_lexer": "ipython2",
   "version": "2.7.12"
  }
 },
 "nbformat": 4,
 "nbformat_minor": 1
}
